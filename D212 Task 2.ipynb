{
 "cells": [
  {
   "cell_type": "code",
   "execution_count": 1,
   "id": "86312508",
   "metadata": {},
   "outputs": [],
   "source": [
    "# Import Packages\n",
    "import pandas as pd\n",
    "from sklearn.preprocessing import StandardScaler\n",
    "from sklearn.decomposition import PCA\n",
    "import matplotlib.pyplot as plt"
   ]
  },
  {
   "cell_type": "code",
   "execution_count": 2,
   "id": "392999b2",
   "metadata": {},
   "outputs": [],
   "source": [
    "# Read in the dataset to CSV\n",
    "df = pd.read_csv('medical_clean.csv')"
   ]
  },
  {
   "cell_type": "markdown",
   "id": "a41dafe6",
   "metadata": {},
   "source": [
    "# Prepare Dataset for Analysis"
   ]
  },
  {
   "cell_type": "code",
   "execution_count": 3,
   "id": "5aa22321",
   "metadata": {},
   "outputs": [
    {
     "name": "stdout",
     "output_type": "stream",
     "text": [
      "<class 'pandas.core.frame.DataFrame'>\n",
      "RangeIndex: 10000 entries, 0 to 9999\n",
      "Data columns (total 50 columns):\n",
      " #   Column              Non-Null Count  Dtype  \n",
      "---  ------              --------------  -----  \n",
      " 0   CaseOrder           10000 non-null  int64  \n",
      " 1   Customer_id         10000 non-null  object \n",
      " 2   Interaction         10000 non-null  object \n",
      " 3   UID                 10000 non-null  object \n",
      " 4   City                10000 non-null  object \n",
      " 5   State               10000 non-null  object \n",
      " 6   County              10000 non-null  object \n",
      " 7   Zip                 10000 non-null  int64  \n",
      " 8   Lat                 10000 non-null  float64\n",
      " 9   Lng                 10000 non-null  float64\n",
      " 10  Population          10000 non-null  int64  \n",
      " 11  Area                10000 non-null  object \n",
      " 12  TimeZone            10000 non-null  object \n",
      " 13  Job                 10000 non-null  object \n",
      " 14  Children            10000 non-null  int64  \n",
      " 15  Age                 10000 non-null  int64  \n",
      " 16  Income              10000 non-null  float64\n",
      " 17  Marital             10000 non-null  object \n",
      " 18  Gender              10000 non-null  object \n",
      " 19  ReAdmis             10000 non-null  object \n",
      " 20  VitD_levels         10000 non-null  float64\n",
      " 21  Doc_visits          10000 non-null  int64  \n",
      " 22  Full_meals_eaten    10000 non-null  int64  \n",
      " 23  vitD_supp           10000 non-null  int64  \n",
      " 24  Soft_drink          10000 non-null  object \n",
      " 25  Initial_admin       10000 non-null  object \n",
      " 26  HighBlood           10000 non-null  object \n",
      " 27  Stroke              10000 non-null  object \n",
      " 28  Complication_risk   10000 non-null  object \n",
      " 29  Overweight          10000 non-null  object \n",
      " 30  Arthritis           10000 non-null  object \n",
      " 31  Diabetes            10000 non-null  object \n",
      " 32  Hyperlipidemia      10000 non-null  object \n",
      " 33  BackPain            10000 non-null  object \n",
      " 34  Anxiety             10000 non-null  object \n",
      " 35  Allergic_rhinitis   10000 non-null  object \n",
      " 36  Reflux_esophagitis  10000 non-null  object \n",
      " 37  Asthma              10000 non-null  object \n",
      " 38  Services            10000 non-null  object \n",
      " 39  Initial_days        10000 non-null  float64\n",
      " 40  TotalCharge         10000 non-null  float64\n",
      " 41  Additional_charges  10000 non-null  float64\n",
      " 42  Item1               10000 non-null  int64  \n",
      " 43  Item2               10000 non-null  int64  \n",
      " 44  Item3               10000 non-null  int64  \n",
      " 45  Item4               10000 non-null  int64  \n",
      " 46  Item5               10000 non-null  int64  \n",
      " 47  Item6               10000 non-null  int64  \n",
      " 48  Item7               10000 non-null  int64  \n",
      " 49  Item8               10000 non-null  int64  \n",
      "dtypes: float64(7), int64(16), object(27)\n",
      "memory usage: 3.8+ MB\n"
     ]
    }
   ],
   "source": [
    "# Explore variables\n",
    "df.info()"
   ]
  },
  {
   "cell_type": "code",
   "execution_count": 4,
   "id": "2202f0f6",
   "metadata": {},
   "outputs": [
    {
     "data": {
      "text/html": [
       "<div>\n",
       "<style scoped>\n",
       "    .dataframe tbody tr th:only-of-type {\n",
       "        vertical-align: middle;\n",
       "    }\n",
       "\n",
       "    .dataframe tbody tr th {\n",
       "        vertical-align: top;\n",
       "    }\n",
       "\n",
       "    .dataframe thead th {\n",
       "        text-align: right;\n",
       "    }\n",
       "</style>\n",
       "<table border=\"1\" class=\"dataframe\">\n",
       "  <thead>\n",
       "    <tr style=\"text-align: right;\">\n",
       "      <th></th>\n",
       "      <th>Income</th>\n",
       "      <th>VitD_levels</th>\n",
       "      <th>Initial_days</th>\n",
       "      <th>TotalCharge</th>\n",
       "      <th>Additional_charges</th>\n",
       "    </tr>\n",
       "  </thead>\n",
       "  <tbody>\n",
       "    <tr>\n",
       "      <th>0</th>\n",
       "      <td>86575.93</td>\n",
       "      <td>19.141466</td>\n",
       "      <td>10.585770</td>\n",
       "      <td>3726.702860</td>\n",
       "      <td>17939.403420</td>\n",
       "    </tr>\n",
       "    <tr>\n",
       "      <th>1</th>\n",
       "      <td>46805.99</td>\n",
       "      <td>18.940352</td>\n",
       "      <td>15.129562</td>\n",
       "      <td>4193.190458</td>\n",
       "      <td>17612.998120</td>\n",
       "    </tr>\n",
       "    <tr>\n",
       "      <th>2</th>\n",
       "      <td>14370.14</td>\n",
       "      <td>18.057507</td>\n",
       "      <td>4.772177</td>\n",
       "      <td>2434.234222</td>\n",
       "      <td>17505.192460</td>\n",
       "    </tr>\n",
       "    <tr>\n",
       "      <th>3</th>\n",
       "      <td>39741.49</td>\n",
       "      <td>16.576858</td>\n",
       "      <td>1.714879</td>\n",
       "      <td>2127.830423</td>\n",
       "      <td>12993.437350</td>\n",
       "    </tr>\n",
       "    <tr>\n",
       "      <th>4</th>\n",
       "      <td>1209.56</td>\n",
       "      <td>17.439069</td>\n",
       "      <td>1.254807</td>\n",
       "      <td>2113.073274</td>\n",
       "      <td>3716.525786</td>\n",
       "    </tr>\n",
       "  </tbody>\n",
       "</table>\n",
       "</div>"
      ],
      "text/plain": [
       "     Income  VitD_levels  Initial_days  TotalCharge  Additional_charges\n",
       "0  86575.93    19.141466     10.585770  3726.702860        17939.403420\n",
       "1  46805.99    18.940352     15.129562  4193.190458        17612.998120\n",
       "2  14370.14    18.057507      4.772177  2434.234222        17505.192460\n",
       "3  39741.49    16.576858      1.714879  2127.830423        12993.437350\n",
       "4   1209.56    17.439069      1.254807  2113.073274         3716.525786"
      ]
     },
     "execution_count": 4,
     "metadata": {},
     "output_type": "execute_result"
    }
   ],
   "source": [
    "# Reduce dataset to selected continuous variables\n",
    "selected_variables = ['Income', 'VitD_levels', 'Initial_days', 'TotalCharge', 'Additional_charges']\n",
    "reduced_df = df[selected_variables]\n",
    "reduced_df.head()"
   ]
  },
  {
   "cell_type": "code",
   "execution_count": 5,
   "id": "69fb299d",
   "metadata": {},
   "outputs": [
    {
     "data": {
      "text/html": [
       "<div>\n",
       "<style scoped>\n",
       "    .dataframe tbody tr th:only-of-type {\n",
       "        vertical-align: middle;\n",
       "    }\n",
       "\n",
       "    .dataframe tbody tr th {\n",
       "        vertical-align: top;\n",
       "    }\n",
       "\n",
       "    .dataframe thead th {\n",
       "        text-align: right;\n",
       "    }\n",
       "</style>\n",
       "<table border=\"1\" class=\"dataframe\">\n",
       "  <thead>\n",
       "    <tr style=\"text-align: right;\">\n",
       "      <th></th>\n",
       "      <th>Income</th>\n",
       "      <th>VitD_levels</th>\n",
       "      <th>Initial_days</th>\n",
       "      <th>TotalCharge</th>\n",
       "      <th>Additional_charges</th>\n",
       "    </tr>\n",
       "  </thead>\n",
       "  <tbody>\n",
       "    <tr>\n",
       "      <th>0</th>\n",
       "      <td>1.615914</td>\n",
       "      <td>0.583603</td>\n",
       "      <td>-0.907310</td>\n",
       "      <td>-0.727185</td>\n",
       "      <td>0.765005</td>\n",
       "    </tr>\n",
       "    <tr>\n",
       "      <th>1</th>\n",
       "      <td>0.221443</td>\n",
       "      <td>0.483901</td>\n",
       "      <td>-0.734595</td>\n",
       "      <td>-0.513228</td>\n",
       "      <td>0.715114</td>\n",
       "    </tr>\n",
       "    <tr>\n",
       "      <th>2</th>\n",
       "      <td>-0.915870</td>\n",
       "      <td>0.046227</td>\n",
       "      <td>-1.128292</td>\n",
       "      <td>-1.319983</td>\n",
       "      <td>0.698635</td>\n",
       "    </tr>\n",
       "    <tr>\n",
       "      <th>3</th>\n",
       "      <td>-0.026263</td>\n",
       "      <td>-0.687811</td>\n",
       "      <td>-1.244503</td>\n",
       "      <td>-1.460517</td>\n",
       "      <td>0.009004</td>\n",
       "    </tr>\n",
       "    <tr>\n",
       "      <th>4</th>\n",
       "      <td>-1.377325</td>\n",
       "      <td>-0.260366</td>\n",
       "      <td>-1.261991</td>\n",
       "      <td>-1.467285</td>\n",
       "      <td>-1.408991</td>\n",
       "    </tr>\n",
       "  </tbody>\n",
       "</table>\n",
       "</div>"
      ],
      "text/plain": [
       "     Income  VitD_levels  Initial_days  TotalCharge  Additional_charges\n",
       "0  1.615914     0.583603     -0.907310    -0.727185            0.765005\n",
       "1  0.221443     0.483901     -0.734595    -0.513228            0.715114\n",
       "2 -0.915870     0.046227     -1.128292    -1.319983            0.698635\n",
       "3 -0.026263    -0.687811     -1.244503    -1.460517            0.009004\n",
       "4 -1.377325    -0.260366     -1.261991    -1.467285           -1.408991"
      ]
     },
     "execution_count": 5,
     "metadata": {},
     "output_type": "execute_result"
    }
   ],
   "source": [
    "# Standardize continuous variables (Boeye, n.d.a)\n",
    "# Initialize a StandardScaler object\n",
    "scaler = StandardScaler()\n",
    "\n",
    "# Fit/transform the reduced dataset using the StandardScaler object which results in an array\n",
    "scaled_array = scaler.fit_transform(reduced_df)\n",
    "\n",
    "# Convert the array into a dataframe using the same columns as reduced_df\n",
    "scaled_df = pd.DataFrame(scaled_array, columns=reduced_df.columns)\n",
    "\n",
    "# View the first five rows of the scaled data\n",
    "scaled_df.head()"
   ]
  },
  {
   "cell_type": "code",
   "execution_count": 6,
   "id": "348074e9",
   "metadata": {},
   "outputs": [],
   "source": [
    "# Export the scaled dataset to CSV\n",
    "scaled_df.to_csv('Prepared Dataset.csv')"
   ]
  },
  {
   "cell_type": "markdown",
   "id": "efa352db",
   "metadata": {},
   "source": [
    "# Perform initial PCA to determine number of components"
   ]
  },
  {
   "cell_type": "code",
   "execution_count": 7,
   "id": "fe8c68c5",
   "metadata": {},
   "outputs": [
    {
     "data": {
      "text/plain": [
       "PCA()"
      ]
     },
     "execution_count": 7,
     "metadata": {},
     "output_type": "execute_result"
    }
   ],
   "source": [
    "# Perform initial PCA to determine number of components (Boeye, n.d.b)\n",
    "# Initialize a PCA object\n",
    "pca = PCA()\n",
    "\n",
    "# Fit the scaled data to the object\n",
    "pca.fit(scaled_df)"
   ]
  },
  {
   "cell_type": "code",
   "execution_count": 8,
   "id": "77efd1ff",
   "metadata": {},
   "outputs": [
    {
     "name": "stdout",
     "output_type": "stream",
     "text": [
      "Principal Components Matrix:\n",
      "[[-0.01936628 -0.00314627  0.70660308  0.70692268  0.02423753]\n",
      " [ 0.60952068 -0.60108272  0.02346515  0.00827001 -0.51629943]\n",
      " [ 0.27669209 -0.44957071 -0.02175579 -0.0017847   0.84902954]\n",
      " [ 0.74266388  0.6607373   0.00837149  0.01121288  0.10807758]\n",
      " [ 0.00115411 -0.00143674 -0.70683667  0.70715134 -0.01776261]]\n"
     ]
    }
   ],
   "source": [
    "# Print the Principal Components Matrix (Wilson, n.d.a)\n",
    "principal_components = pca.components_\n",
    "print('Principal Components Matrix:')\n",
    "print(principal_components)"
   ]
  },
  {
   "cell_type": "markdown",
   "id": "78706125",
   "metadata": {},
   "source": [
    "# Produce Scree plot"
   ]
  },
  {
   "cell_type": "code",
   "execution_count": 9,
   "id": "3f7041ab",
   "metadata": {},
   "outputs": [
    {
     "data": {
      "image/png": "[encoded data removed]",
      "text/plain": [
       "<Figure size 1000x600 with 1 Axes>"
      ]
     },
     "metadata": {},
     "output_type": "display_data"
    }
   ],
   "source": [
    "# Create a Scree plot showing the explained variance ratio of each Principal Component (Boeye, n.d.c)\n",
    "# Create the plot\n",
    "plt.figure(figsize=(10,6))\n",
    "plt.plot(pca.explained_variance_ratio_, marker='o')\n",
    "\n",
    "# Add chart elements\n",
    "plt.title('Scree Plot')\n",
    "plt.xlabel('Principal Component')\n",
    "plt.ylabel('Explained Variance Ratio')\n",
    "\n",
    "# Show the plot\n",
    "plt.show()"
   ]
  },
  {
   "cell_type": "markdown",
   "id": "bbaccb73",
   "metadata": {},
   "source": [
    "# Re-apply PCA with two components"
   ]
  },
  {
   "cell_type": "code",
   "execution_count": 10,
   "id": "ae879832",
   "metadata": {},
   "outputs": [
    {
     "data": {
      "text/plain": [
       "PCA(n_components=2)"
      ]
     },
     "execution_count": 10,
     "metadata": {},
     "output_type": "execute_result"
    }
   ],
   "source": [
    "# Initialize a PCA object, this time with two components\n",
    "pca = PCA(n_components=2)\n",
    "\n",
    "# Fit the scaled data to the object\n",
    "pca.fit(scaled_df)"
   ]
  },
  {
   "cell_type": "code",
   "execution_count": 11,
   "id": "a890c35e",
   "metadata": {},
   "outputs": [
    {
     "name": "stdout",
     "output_type": "stream",
     "text": [
      "Explained Variance Ratio for each Principal Component:\n",
      "[0.39771921 0.20411625]\n"
     ]
    }
   ],
   "source": [
    "# Determine Explained Variance Ratio for each Principal Component (Boeye, n.d.b)\n",
    "print('Explained Variance Ratio for each Principal Component:')\n",
    "print(pca.explained_variance_ratio_)"
   ]
  },
  {
   "cell_type": "code",
   "execution_count": 12,
   "id": "be2c9477",
   "metadata": {},
   "outputs": [
    {
     "name": "stdout",
     "output_type": "stream",
     "text": [
      "Total Variance Captured by Two Components:\n",
      "0.6018354640861929\n"
     ]
    }
   ],
   "source": [
    "# Determine Total Variance (Boeye, n.d.b)\n",
    "print('Total Variance Captured by Two Components:')\n",
    "print(pca.explained_variance_ratio_.sum())"
   ]
  },
  {
   "cell_type": "code",
   "execution_count": null,
   "id": "5c642048",
   "metadata": {},
   "outputs": [],
   "source": []
  }
 ],
 "metadata": {
  "kernelspec": {
   "display_name": "Python 3 (ipykernel)",
   "language": "python",
   "name": "python3"
  },
  "language_info": {
   "codemirror_mode": {
    "name": "ipython",
    "version": 3
   },
   "file_extension": ".py",
   "mimetype": "text/x-python",
   "name": "python",
   "nbconvert_exporter": "python",
   "pygments_lexer": "ipython3",
   "version": "3.9.13"
  }
 },
 "nbformat": 4,
 "nbformat_minor": 5
}
